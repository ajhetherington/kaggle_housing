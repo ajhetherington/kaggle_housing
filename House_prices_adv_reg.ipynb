{
 "cells": [
  {
   "cell_type": "code",
   "execution_count": 32,
   "id": "6ade138d-dbed-46da-ad1c-2e53b5911148",
   "metadata": {},
   "outputs": [
    {
     "name": "stdout",
     "output_type": "stream",
     "text": [
      "sample_submission.csv\n",
      "test.csv\n",
      "train.csv\n",
      "data_description.txt\n"
     ]
    }
   ],
   "source": [
    "import os\n",
    "import pandas as pd\n",
    "import numpy as np\n",
    "from matplotlib import pyplot as plt\n",
    "import scipy as sc\n",
    "from scipy import stats\n",
    "import sklearn\n",
    "\n",
    "%matplotlib inline\n",
    "\n",
    "for file in os.listdir(\"house-prices-advanced-regression-techniques\"):\n",
    "    print(file)\n"
   ]
  },
  {
   "cell_type": "code",
   "execution_count": 33,
   "id": "22af23ba",
   "metadata": {},
   "outputs": [],
   "source": [
    "def rmse(one,other):\n",
    "    return (np.mean((one - other)**2))**0.5"
   ]
  },
  {
   "cell_type": "code",
   "execution_count": 34,
   "id": "66371d61-d08f-4cbe-88c7-afcc7b872729",
   "metadata": {},
   "outputs": [],
   "source": [
    "train_data = pd.read_csv('house-prices-advanced-regression-techniques/train.csv')\n",
    "train_data = train_data.drop(columns = 'Id')"
   ]
  },
  {
   "cell_type": "code",
   "execution_count": 35,
   "id": "504cca66-163b-4e5a-92af-8632028f18c7",
   "metadata": {},
   "outputs": [],
   "source": [
    "missing_percent = (train_data.isna().sum(axis = 0) / len(train_data))\n",
    "cols_to_remove = missing_percent[missing_percent > 0.5].index"
   ]
  },
  {
   "cell_type": "code",
   "execution_count": 36,
   "id": "9469a89b-d7a9-4404-9a01-31f6ed7dd4f7",
   "metadata": {},
   "outputs": [],
   "source": [
    "train_data = train_data.drop(columns = cols_to_remove)"
   ]
  },
  {
   "cell_type": "markdown",
   "id": "1da930d1-d59d-4f3f-bf38-ca02f68585c7",
   "metadata": {},
   "source": [
    "## Numerical Data\n",
    "Exclude all categorical variables and only use numerical variables"
   ]
  },
  {
   "cell_type": "code",
   "execution_count": 37,
   "id": "9ebb2cec-1bc0-4cde-afd5-fba9bceeade5",
   "metadata": {},
   "outputs": [],
   "source": [
    "numerical_train_data = train_data.drop(columns = train_data.columns[train_data.dtypes == 'object'])"
   ]
  },
  {
   "cell_type": "code",
   "execution_count": 38,
   "id": "ac286892-3c68-4d5a-9d49-42a18464cb9f",
   "metadata": {},
   "outputs": [
    {
     "name": "stderr",
     "output_type": "stream",
     "text": [
      "/home/alexhetherington/.local/lib/python3.8/site-packages/pandas/core/frame.py:5171: SettingWithCopyWarning: \n",
      "A value is trying to be set on a copy of a slice from a DataFrame\n",
      "\n",
      "See the caveats in the documentation: https://pandas.pydata.org/pandas-docs/stable/user_guide/indexing.html#returning-a-view-versus-a-copy\n",
      "  return super().fillna(\n"
     ]
    }
   ],
   "source": [
    "from sklearn.preprocessing import MinMaxScaler\n",
    "from sklearn.model_selection import train_test_split\n",
    "train,test = train_test_split(numerical_train_data,test_size = 0.2)\n",
    "train.fillna(0,inplace = True),test.fillna(0,inplace = True)\n",
    "train_x,train_y = train.drop(columns = 'SalePrice').to_numpy(),train['SalePrice'].to_numpy()\n",
    "test_x,test_y = test.drop(columns = 'SalePrice').to_numpy(),test['SalePrice'].to_numpy()"
   ]
  },
  {
   "cell_type": "code",
   "execution_count": 39,
   "id": "79b24c71-c64b-4b24-8716-ad1830638ad6",
   "metadata": {},
   "outputs": [],
   "source": [
    "scaler = MinMaxScaler().fit(train_x)\n",
    "train_x,test_x = scaler.transform(train_x),scaler.transform(test_x)\n",
    "scaler = MinMaxScaler().fit(train_y[:,None])\n",
    "train_y,test_y = scaler.transform(train_y[:,None]),scaler.transform(test_y[:,None])"
   ]
  },
  {
   "cell_type": "markdown",
   "id": "50f49a37",
   "metadata": {},
   "source": [
    "### Fully Connected NN"
   ]
  },
  {
   "cell_type": "code",
   "execution_count": 40,
   "id": "a6d94833-827d-4124-ae85-95c6485490a7",
   "metadata": {},
   "outputs": [],
   "source": [
    "from tensorflow import keras\n",
    "from tensorflow.keras.layers import Dense,BatchNormalization\n",
    "from tensorflow.keras import Sequential\n",
    "from tensorflow.keras.optimizers import Adam\n",
    "from tensorflow.keras.regularizers import L1L2\n",
    "model = Sequential()\n",
    "model.add(Dense(150,activation = 'relu',input_shape = (36,)))\n",
    "model.add(Dense(100,activation = 'relu'))\n",
    "model.add(Dense(50,activation = 'relu'))\n",
    "model.add(Dense(25,activation = 'relu'))\n",
    "model.add(Dense(1,activation = 'relu'))\n",
    "model.compile(optimizer = Adam(learning_rate = 1e-4),loss = 'mape')"
   ]
  },
  {
   "cell_type": "code",
   "execution_count": 41,
   "id": "1acabe4f-312d-4f74-a91b-a3dd7deabdab",
   "metadata": {},
   "outputs": [
    {
     "name": "stdout",
     "output_type": "stream",
     "text": [
      "Model: \"sequential_2\"\n",
      "_________________________________________________________________\n",
      "Layer (type)                 Output Shape              Param #   \n",
      "=================================================================\n",
      "dense_10 (Dense)             (None, 150)               5550      \n",
      "_________________________________________________________________\n",
      "dense_11 (Dense)             (None, 100)               15100     \n",
      "_________________________________________________________________\n",
      "dense_12 (Dense)             (None, 50)                5050      \n",
      "_________________________________________________________________\n",
      "dense_13 (Dense)             (None, 25)                1275      \n",
      "_________________________________________________________________\n",
      "dense_14 (Dense)             (None, 1)                 26        \n",
      "=================================================================\n",
      "Total params: 27,001\n",
      "Trainable params: 27,001\n",
      "Non-trainable params: 0\n",
      "_________________________________________________________________\n"
     ]
    }
   ],
   "source": [
    "model.summary()"
   ]
  },
  {
   "cell_type": "code",
   "execution_count": 42,
   "id": "2efd2e80-5c88-4c60-8469-23c353619564",
   "metadata": {
    "scrolled": true,
    "tags": []
   },
   "outputs": [
    {
     "data": {
      "text/plain": [
       "<tensorflow.python.keras.callbacks.History at 0x7fc12c00d400>"
      ]
     },
     "execution_count": 42,
     "metadata": {},
     "output_type": "execute_result"
    }
   ],
   "source": [
    "model.fit(train_x,train_y,epochs = 30,batch_size = 1,verbose = 0)"
   ]
  },
  {
   "cell_type": "code",
   "execution_count": 43,
   "id": "8b70a382-30f9-4b03-83a0-a5223ad713a3",
   "metadata": {
    "scrolled": true
   },
   "outputs": [
    {
     "data": {
      "text/plain": [
       "Text(0.5, 0, 'True')"
      ]
     },
     "execution_count": 43,
     "metadata": {},
     "output_type": "execute_result"
    },
    {
     "data": {
      "image/png": "[encoded data removed]",
      "text/plain": [
       "<Figure size 432x288 with 1 Axes>"
      ]
     },
     "metadata": {
      "needs_background": "light"
     },
     "output_type": "display_data"
    }
   ],
   "source": [
    "fig,ax = plt.subplots()\n",
    "plt.scatter(test_y,model.predict(test_x))\n",
    "ax.plot([test_y.min(),test_y.max()],[test_y.min(),test_y.max()],'k--')\n",
    "plt.ylabel('Predicted')\n",
    "plt.xlabel('True')"
   ]
  },
  {
   "cell_type": "code",
   "execution_count": 44,
   "id": "39b07fb7-d111-44b6-a247-2c20fb8c3332",
   "metadata": {},
   "outputs": [
    {
     "name": "stdout",
     "output_type": "stream",
     "text": [
      "rmse : 0.08184722173479632\n"
     ]
    }
   ],
   "source": [
    "print('rmse :',rmse(model.predict(test_x),test_y))"
   ]
  },
  {
   "cell_type": "markdown",
   "id": "759d814e",
   "metadata": {},
   "source": [
    "### KNN"
   ]
  },
  {
   "cell_type": "code",
   "execution_count": 45,
   "id": "827fe925",
   "metadata": {},
   "outputs": [
    {
     "name": "stdout",
     "output_type": "stream",
     "text": [
      "3\n",
      "\n"
     ]
    },
    {
     "data": {
      "image/png": "[encoded data removed]",
      "text/plain": [
       "<Figure size 432x288 with 1 Axes>"
      ]
     },
     "metadata": {
      "needs_background": "light"
     },
     "output_type": "display_data"
    }
   ],
   "source": [
    "from sklearn.neighbors import KNeighborsRegressor as Knn\n",
    "\n",
    "candidate_rmse = []\n",
    "for i in range(1,10):\n",
    "    knn_model = Knn(i)\n",
    "    knn_model.fit(train_x,train_y)\n",
    "    candidate_rmse.append(rmse(knn_model.predict(test_x),test_y))\n",
    "n = np.array(candidate_rmse).argmin() + 1\n",
    "print(n)\n",
    "plt.plot(candidate_rmse)\n",
    "print()"
   ]
  },
  {
   "cell_type": "code",
   "execution_count": 46,
   "id": "5c35e7d7",
   "metadata": {},
   "outputs": [],
   "source": [
    "knn_model = Knn(n)\n",
    "knn_model.fit(train_x,train_y)\n",
    "knn_preds = knn_model.predict(test_x)"
   ]
  },
  {
   "cell_type": "code",
   "execution_count": 47,
   "id": "86a322df",
   "metadata": {},
   "outputs": [
    {
     "data": {
      "text/plain": [
       "Text(0.5, 0, 'True')"
      ]
     },
     "execution_count": 47,
     "metadata": {},
     "output_type": "execute_result"
    },
    {
     "data": {
      "image/png": "[encoded data removed]",
      "text/plain": [
       "<Figure size 432x288 with 1 Axes>"
      ]
     },
     "metadata": {
      "needs_background": "light"
     },
     "output_type": "display_data"
    }
   ],
   "source": [
    "fig,ax = plt.subplots()\n",
    "plt.scatter(test_y,knn_preds)\n",
    "ax.plot([test_y.min(),test_y.max()],[test_y.min(),test_y.max()],'k--')\n",
    "plt.ylabel('Predicted')\n",
    "plt.xlabel('True')"
   ]
  },
  {
   "cell_type": "code",
   "execution_count": 48,
   "id": "8d248b26",
   "metadata": {},
   "outputs": [
    {
     "name": "stdout",
     "output_type": "stream",
     "text": [
      "rmse : 0.0729580567266134\n"
     ]
    }
   ],
   "source": [
    "print('rmse :',rmse(knn_preds,test_y))"
   ]
  },
  {
   "cell_type": "markdown",
   "id": "b96a4baa",
   "metadata": {},
   "source": [
    "### Random Forest"
   ]
  },
  {
   "cell_type": "code",
   "execution_count": 64,
   "id": "e725594f",
   "metadata": {},
   "outputs": [],
   "source": [
    "from sklearn.ensemble import RandomForestRegressor as Rfr\n",
    "rfr = Rfr(50,max_depth = 15,min_samples_leaf = 5)\n",
    "rfr.fit(train_x,train_y.ravel())\n",
    "rfr_preds = rfr.predict(test_x)"
   ]
  },
  {
   "cell_type": "code",
   "execution_count": 65,
   "id": "9e32160b",
   "metadata": {},
   "outputs": [
    {
     "data": {
      "text/plain": [
       "Text(0.5, 0, 'True')"
      ]
     },
     "execution_count": 65,
     "metadata": {},
     "output_type": "execute_result"
    },
    {
     "data": {
      "image/png": "[encoded data removed]",
      "text/plain": [
       "<Figure size 432x288 with 1 Axes>"
      ]
     },
     "metadata": {
      "needs_background": "light"
     },
     "output_type": "display_data"
    }
   ],
   "source": [
    "fig,ax = plt.subplots()\n",
    "plt.scatter(test_y,rfr_preds)\n",
    "ax.plot([test_y.min(),test_y.max()],[test_y.min(),test_y.max()],'k--')\n",
    "plt.ylabel('Predicted')\n",
    "plt.xlabel('True')"
   ]
  },
  {
   "cell_type": "code",
   "execution_count": 66,
   "id": "e4fe0996",
   "metadata": {},
   "outputs": [
    {
     "name": "stdout",
     "output_type": "stream",
     "text": [
      "0.1905591789093865\n"
     ]
    }
   ],
   "source": [
    "print(rmse(rfr_preds,test_y))"
   ]
  },
  {
   "cell_type": "code",
   "execution_count": null,
   "id": "5da04031",
   "metadata": {},
   "outputs": [],
   "source": []
  }
 ],
 "metadata": {
  "kernelspec": {
   "display_name": "Python 3 (ipykernel)",
   "language": "python",
   "name": "python3"
  },
  "language_info": {
   "codemirror_mode": {
    "name": "ipython",
    "version": 3
   },
   "file_extension": ".py",
   "mimetype": "text/x-python",
   "name": "python",
   "nbconvert_exporter": "python",
   "pygments_lexer": "ipython3",
   "version": "3.8.10"
  }
 },
 "nbformat": 4,
 "nbformat_minor": 5
}
